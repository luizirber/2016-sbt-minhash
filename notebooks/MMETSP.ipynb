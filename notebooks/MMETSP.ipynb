{
 "cells": [
  {
   "cell_type": "markdown",
   "metadata": {
    "toc": "true"
   },
   "source": [
    "# Table of Contents\n",
    " <p><div class=\"lev1\"><a href=\"#MMETSP\"><span class=\"toc-item-num\">1&nbsp;&nbsp;</span>MMETSP</a></div>"
   ]
  },
  {
   "cell_type": "code",
   "execution_count": 1,
   "metadata": {
    "ExecuteTime": {
     "end_time": "2016-10-30T17:56:34.802006",
     "start_time": "2016-10-30T17:56:34.788924"
    },
    "collapsed": false
   },
   "outputs": [],
   "source": [
    "cd -q .."
   ]
  },
  {
   "cell_type": "code",
   "execution_count": 2,
   "metadata": {
    "ExecuteTime": {
     "end_time": "2016-10-30T17:56:34.969230",
     "start_time": "2016-10-30T17:56:34.805636"
    },
    "collapsed": true,
    "init_cell": true,
    "scrolled": false
   },
   "outputs": [],
   "source": [
    "from collections import defaultdict\n",
    "from glob import glob\n",
    "import os\n",
    "from functools import partial\n",
    "\n",
    "from IPython.display import Image\n",
    "\n",
    "from sourmash_lib import signature\n",
    "from sbt import SBT, GraphFactory\n",
    "from sbtmh import search_minhashes, SigLeaf"
   ]
  },
  {
   "cell_type": "code",
   "execution_count": 3,
   "metadata": {
    "ExecuteTime": {
     "end_time": "2016-10-30T17:56:34.979008",
     "start_time": "2016-10-30T17:56:34.973391"
    },
    "collapsed": false,
    "scrolled": false
   },
   "outputs": [],
   "source": [
    "factory = GraphFactory(31, 1e5, 4)"
   ]
  },
  {
   "cell_type": "markdown",
   "metadata": {},
   "source": [
    "# MMETSP"
   ]
  },
  {
   "cell_type": "code",
   "execution_count": 4,
   "metadata": {
    "ExecuteTime": {
     "end_time": "2016-10-30T17:56:35.052035",
     "start_time": "2016-10-30T17:56:34.983559"
    },
    "collapsed": false,
    "scrolled": false
   },
   "outputs": [],
   "source": [
    "sig_to_search = \"mmetsp/SRR1296807.left.fq.head.sig\"\n",
    "with open(sig_to_search, 'r') as data:\n",
    "    to_search = signature.load_signatures(data)[0]"
   ]
  },
  {
   "cell_type": "code",
   "execution_count": 5,
   "metadata": {
    "ExecuteTime": {
     "end_time": "2016-10-30T17:57:10.603488",
     "start_time": "2016-10-30T17:56:35.054704"
    },
    "collapsed": false,
    "scrolled": true
   },
   "outputs": [],
   "source": [
    "trees = {}\n",
    "for d in (2, 5, 10):\n",
    "    trees[d] = SBT(factory, d=d)\n",
    "\n",
    "for f in glob(\"mmetsp/*.sig\"):\n",
    "    with open(f, 'r') as data:\n",
    "        sig = signature.load_signatures(data)\n",
    "    leaf = SigLeaf(os.path.basename(f), sig[0])\n",
    "    for tree in trees.values():\n",
    "        tree.add_node(leaf)"
   ]
  },
  {
   "cell_type": "code",
   "execution_count": 6,
   "metadata": {
    "ExecuteTime": {
     "end_time": "2016-10-30T17:57:10.682321",
     "start_time": "2016-10-30T17:57:10.604913"
    },
    "collapsed": false,
    "scrolled": false
   },
   "outputs": [
    {
     "name": "stdout",
     "output_type": "stream",
     "text": [
      "************************************************************\n",
      "mmetsp/SRR1296807.left.fq.head.sig:\n",
      "('SRR1296804.left.fq.head.sig', 0.30399999022483826)\n",
      "('SRR1296807.left.fq.head.sig', 1.0)\n",
      "('SRR1296805.left.fq.head.sig', 0.33000001311302185)\n",
      "('SRR1296806.left.fq.head.sig', 0.28999999165534973)\n",
      "\n",
      "('SRR1296805.left.fq.head.sig', 0.33000001311302185)\n",
      "('SRR1296807.left.fq.head.sig', 1.0)\n",
      "('SRR1296804.left.fq.head.sig', 0.30399999022483826)\n",
      "('SRR1296806.left.fq.head.sig', 0.28999999165534973)\n",
      "\n",
      "('SRR1296804.left.fq.head.sig', 0.30399999022483826)\n",
      "('SRR1296805.left.fq.head.sig', 0.33000001311302185)\n",
      "('SRR1296807.left.fq.head.sig', 1.0)\n",
      "('SRR1296806.left.fq.head.sig', 0.28999999165534973)\n",
      "\n"
     ]
    }
   ],
   "source": [
    "results = defaultdict(dict)\n",
    "print('*' * 60)\n",
    "print(\"{}:\".format(sig_to_search))\n",
    "\n",
    "for d in trees:\n",
    "    search = partial(search_minhashes, results=results[d])\n",
    "    print(*[(str(s.metadata), s.data.similarity(to_search))\n",
    "            for s in trees[d].find(search, to_search, 0.1)],\n",
    "          sep='\\n')\n",
    "    print()"
   ]
  },
  {
   "cell_type": "code",
   "execution_count": 7,
   "metadata": {
    "ExecuteTime": {
     "end_time": "2016-10-30T17:57:10.698761",
     "start_time": "2016-10-30T17:57:10.691199"
    },
    "collapsed": false
   },
   "outputs": [
    {
     "name": "stdout",
     "output_type": "stream",
     "text": [
      "2-ary: 59 searches, 1023 nodes allocated (995 (97.3%) used)\n",
      "5-ary: 61 searches, 781 nodes allocated (623 (79.8%) used)\n",
      "10-ary: 81 searches, 1111 nodes allocated (554 (49.9%) used)\n"
     ]
    }
   ],
   "source": [
    "for n in sorted(results):\n",
    "    used = sum(1 for n in trees[n].nodes if n is not None)\n",
    "    total = len(trees[n].nodes)\n",
    "    print(\"{}-ary: {} searches, {} nodes allocated ({} ({:.1f}%) used)\".format(\n",
    "            n, len(results[n]), total, used, \n",
    "            round(used / total, 3) * 100))"
   ]
  }
 ],
 "metadata": {
  "kernelspec": {
   "display_name": "Python 3",
   "language": "python",
   "name": "python3"
  },
  "language_info": {
   "codemirror_mode": {
    "name": "ipython",
    "version": 3
   },
   "file_extension": ".py",
   "mimetype": "text/x-python",
   "name": "python",
   "nbconvert_exporter": "python",
   "pygments_lexer": "ipython3",
   "version": "3.5.2"
  },
  "toc": {
   "toc_cell": true,
   "toc_number_sections": true,
   "toc_section_display": "block",
   "toc_threshold": 6,
   "toc_window_display": true
  },
  "toc_position": {
   "height": "422px",
   "left": "17.9219px",
   "right": "20px",
   "top": "120px",
   "width": "106px"
  }
 },
 "nbformat": 4,
 "nbformat_minor": 1
}
